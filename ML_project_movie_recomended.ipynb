{
 "cells": [
  {
   "cell_type": "code",
   "execution_count": 131,
   "id": "01027329",
   "metadata": {},
   "outputs": [],
   "source": [
    "import pandas as pd\n",
    "#pd.set_option(\"display.max_rows\",200)             # to display ass row\n",
    "#pd.set_option(\"display.max_rows\",None)             # to display ass columns\n",
    "\n",
    "import numpy as np\n",
    "import seaborn as sns\n",
    "import matplotlib.pyplot as plt\n",
    "import collections "
   ]
  },
  {
   "cell_type": "code",
   "execution_count": 132,
   "id": "281de966",
   "metadata": {},
   "outputs": [],
   "source": [
    "movies_df = pd.read_csv(r\"C:\\Users\\91752\\OneDrive - DIT University\\Desktop\\ML projects\\movie_recomended\\tmdb_5000_movies.csv\")\n",
    "credits_df = pd.read_csv(r\"C:\\Users\\91752\\OneDrive - DIT University\\Desktop\\ML projects\\movie_recomended\\tmdb_5000_credits.csv\")\n",
    "\n",
    "df = movies_df.merge(credits_df,on='title')"
   ]
  },
  {
   "cell_type": "markdown",
   "id": "35e206e2-f2ff-4579-a95d-7b05c04cbf4c",
   "metadata": {},
   "source": [
    "###    preprocessing    ###"
   ]
  },
  {
   "cell_type": "code",
   "execution_count": 133,
   "id": "650c9628-e445-4d71-bbdf-35d5d1e23abe",
   "metadata": {},
   "outputs": [
    {
     "data": {
      "text/plain": [
       "Index(['budget', 'genres', 'homepage', 'id', 'keywords', 'original_language',\n",
       "       'original_title', 'overview', 'popularity', 'production_companies',\n",
       "       'production_countries', 'release_date', 'revenue', 'runtime',\n",
       "       'spoken_languages', 'status', 'tagline', 'title', 'vote_average',\n",
       "       'vote_count', 'movie_id', 'cast', 'crew'],\n",
       "      dtype='object')"
      ]
     },
     "execution_count": 133,
     "metadata": {},
     "output_type": "execute_result"
    }
   ],
   "source": [
    "df.columns"
   ]
  },
  {
   "cell_type": "code",
   "execution_count": 134,
   "id": "9f126a9b",
   "metadata": {},
   "outputs": [],
   "source": [
    "df = df[[\"movie_id\",\"title\",\"overview\",\"genres\",\"keywords\",\"cast\",\"crew\"]]"
   ]
  },
  {
   "cell_type": "code",
   "execution_count": 135,
   "id": "fd13d16d-60a6-45fc-8646-4f63f7c0a6db",
   "metadata": {},
   "outputs": [
    {
     "data": {
      "text/plain": [
       "movie_id    0\n",
       "title       0\n",
       "overview    3\n",
       "genres      0\n",
       "keywords    0\n",
       "cast        0\n",
       "crew        0\n",
       "dtype: int64"
      ]
     },
     "execution_count": 135,
     "metadata": {},
     "output_type": "execute_result"
    }
   ],
   "source": [
    "df.isnull().sum()"
   ]
  },
  {
   "cell_type": "code",
   "execution_count": 136,
   "id": "e89d2827-dd30-4df4-8bcf-e5135f018f7b",
   "metadata": {},
   "outputs": [],
   "source": [
    "df.dropna(inplace=True)"
   ]
  },
  {
   "cell_type": "code",
   "execution_count": 137,
   "id": "8d2de09d-a3e0-4222-aca7-1ccbaad6c84e",
   "metadata": {},
   "outputs": [
    {
     "data": {
      "text/plain": [
       "0"
      ]
     },
     "execution_count": 137,
     "metadata": {},
     "output_type": "execute_result"
    }
   ],
   "source": [
    "df.duplicated().sum()"
   ]
  },
  {
   "cell_type": "code",
   "execution_count": 138,
   "id": "289a499b-bd04-4fdc-840f-f5725ec10712",
   "metadata": {},
   "outputs": [
    {
     "data": {
      "text/plain": [
       "'[{\"id\": 28, \"name\": \"Action\"}, {\"id\": 12, \"name\": \"Adventure\"}, {\"id\": 14, \"name\": \"Fantasy\"}, {\"id\": 878, \"name\": \"Science Fiction\"}]'"
      ]
     },
     "execution_count": 138,
     "metadata": {},
     "output_type": "execute_result"
    }
   ],
   "source": [
    "df.iloc[0].genres"
   ]
  },
  {
   "cell_type": "code",
   "execution_count": 139,
   "id": "d7c9f7cd-2bea-42f6-a0af-412df50e440c",
   "metadata": {},
   "outputs": [
    {
     "data": {
      "text/plain": [
       "[{'id': 28, 'name': 'Action'},\n",
       " {'id': 12, 'name': 'Adventure'},\n",
       " {'id': 14, 'name': 'Fantasy'},\n",
       " {'id': 878, 'name': 'Science Fiction'}]"
      ]
     },
     "execution_count": 139,
     "metadata": {},
     "output_type": "execute_result"
    }
   ],
   "source": [
    "import ast \n",
    "ast.literal_eval(df.iloc[0].genres)"
   ]
  },
  {
   "cell_type": "code",
   "execution_count": 140,
   "id": "d9b8bda6-bfe4-42f1-a5e7-09c2fab025ca",
   "metadata": {},
   "outputs": [],
   "source": [
    "def convert(obj):\n",
    "    li=[]\n",
    "    for i in ast.literal_eval(obj):\n",
    "        li.append(i['name'])\n",
    "    return li"
   ]
  },
  {
   "cell_type": "code",
   "execution_count": 141,
   "id": "6bda7f73-a0ff-4e83-9626-19026fde5ca8",
   "metadata": {},
   "outputs": [],
   "source": [
    "df['genres'] = df['genres'].apply(convert)"
   ]
  },
  {
   "cell_type": "code",
   "execution_count": 142,
   "id": "b1fb6b58-fe4b-408d-9db2-2bebc7163794",
   "metadata": {},
   "outputs": [],
   "source": [
    "df['keywords'] = df['keywords'].apply(convert)"
   ]
  },
  {
   "cell_type": "code",
   "execution_count": 143,
   "id": "e9c63e8a-475f-45bf-8cb2-01c2ea7f0481",
   "metadata": {},
   "outputs": [],
   "source": [
    "def convert2(obj):\n",
    "    li=[]\n",
    "    counter = 0\n",
    "    for i in ast.literal_eval(obj):\n",
    "        if counter !=3:\n",
    "            li.append(i['name'])\n",
    "            counter+=1\n",
    "        else:\n",
    "            break\n",
    "    return li"
   ]
  },
  {
   "cell_type": "code",
   "execution_count": 144,
   "id": "94292cb2-f35e-47f4-ac3a-352ab9bcce2a",
   "metadata": {},
   "outputs": [],
   "source": [
    "df['cast'] = df['cast'].apply(convert2)"
   ]
  },
  {
   "cell_type": "code",
   "execution_count": 145,
   "id": "aebb441f-0d97-4449-ac79-fc77ad65440a",
   "metadata": {},
   "outputs": [],
   "source": [
    "def fetch_director(obj):\n",
    "    li=[]\n",
    "    for i in ast.literal_eval(obj):\n",
    "        if i['job'] == 'Director':\n",
    "            li.append(i['name'])\n",
    "            break\n",
    "    return li"
   ]
  },
  {
   "cell_type": "code",
   "execution_count": 146,
   "id": "525a34a1-3b56-47cb-9301-cf16697027ac",
   "metadata": {},
   "outputs": [],
   "source": [
    "df['crew'] = df['crew'].apply(fetch_director)"
   ]
  },
  {
   "cell_type": "code",
   "execution_count": 147,
   "id": "ac1d33ef-39b4-4602-9539-5b7a77aefed7",
   "metadata": {},
   "outputs": [],
   "source": [
    "df['overview'] = df['overview'].apply(lambda x:x.split())"
   ]
  },
  {
   "cell_type": "code",
   "execution_count": 148,
   "id": "a802c645-0d3a-424a-a126-c7ea3a05bb30",
   "metadata": {},
   "outputs": [],
   "source": [
    "df['genres'] = df['genres'].apply(lambda x : [i.replace(\" \",\"\") for i in x])\n",
    "df['keywords'] = df['keywords'].apply(lambda x : [i.replace(\" \",\"\") for i in x])\n",
    "df['cast'] = df['cast'].apply(lambda x :[i.replace(\" \",\"\") for i in x])\n",
    "df['crew'] = df['crew'].apply(lambda x : [i.replace(\"\",\"\") for i in x])"
   ]
  },
  {
   "cell_type": "code",
   "execution_count": 149,
   "id": "bd16ee64",
   "metadata": {},
   "outputs": [],
   "source": [
    "df['tags'] = df['overview'] + df['genres'] + df['keywords'] + df['cast'] + df['crew'] "
   ]
  },
  {
   "cell_type": "code",
   "execution_count": 150,
   "id": "af185759-5f8b-409a-8bc5-6dbb592abf0d",
   "metadata": {},
   "outputs": [],
   "source": [
    "df = df[['movie_id' , 'title' , 'tags']]"
   ]
  },
  {
   "cell_type": "code",
   "execution_count": 151,
   "id": "cfb06532-4e73-4e37-97c8-ac3a89fd166f",
   "metadata": {},
   "outputs": [],
   "source": [
    "df['tags'] = df['tags'].apply(lambda x : \" \".join(x))"
   ]
  },
  {
   "cell_type": "code",
   "execution_count": 153,
   "id": "671a2252-80a3-4770-8de8-8d93a0c95921",
   "metadata": {},
   "outputs": [],
   "source": [
    "df['tags'] = df['tags'].apply(lambda x:x.lower())"
   ]
  },
  {
   "cell_type": "markdown",
   "id": "f7e7108a-734a-4381-b072-8323b10e852c",
   "metadata": {},
   "source": [
    "###    vectorization    ###"
   ]
  },
  {
   "cell_type": "code",
   "execution_count": 154,
   "id": "bb991ebf-ddc9-487a-a913-8f1048f15c83",
   "metadata": {},
   "outputs": [],
   "source": [
    "from sklearn.feature_extraction.text import CountVectorizer"
   ]
  },
  {
   "cell_type": "code",
   "execution_count": 174,
   "id": "405b93d9-e2aa-41b9-bbd9-b7ba595448c4",
   "metadata": {},
   "outputs": [],
   "source": [
    "cv = CountVectorizer(max_features=5000,stop_words=\"english\")\n",
    "vectors = cv.fit_transform(df['tags']).toarray()"
   ]
  },
  {
   "cell_type": "code",
   "execution_count": 179,
   "id": "61ed19a3-1ab8-40e6-a27a-8d921e7b95fd",
   "metadata": {},
   "outputs": [
    {
     "data": {
      "text/plain": [
       "array(['000', '007', '10', ..., 'zooeydeschanel', 'zucker', 'zwick'],\n",
       "      dtype=object)"
      ]
     },
     "execution_count": 179,
     "metadata": {},
     "output_type": "execute_result"
    }
   ],
   "source": [
    "cv.get_feature_names_out()"
   ]
  },
  {
   "cell_type": "code",
   "execution_count": 177,
   "id": "b1e3a58f-9cfa-4fa5-acd2-c80185dd259b",
   "metadata": {},
   "outputs": [],
   "source": [
    "#demo = pd.DataFrame(vectors,columns=cv.get_feature_names_out())\n",
    "#demo.sum().sort_values(ascending=False)"
   ]
  },
  {
   "cell_type": "code",
   "execution_count": 171,
   "id": "61f8bf73-cc14-44f4-9f38-2bef44e5310e",
   "metadata": {},
   "outputs": [],
   "source": [
    "import nltk                    # NLP  # stemming\n",
    "from nltk.stem.porter import PorterStemmer"
   ]
  },
  {
   "cell_type": "code",
   "execution_count": 172,
   "id": "c6144a8f-370c-4c03-9e84-af00ecddad8e",
   "metadata": {},
   "outputs": [],
   "source": [
    "ps = PorterStemmer()\n",
    "\n",
    "def stem(text):\n",
    "    li=[]\n",
    "    for i in text.split():\n",
    "        li.append(ps.stem(i))\n",
    "    return \" \".join(li)\n"
   ]
  },
  {
   "cell_type": "code",
   "execution_count": 173,
   "id": "a7446f19-1418-4f0e-83df-8a1800836c97",
   "metadata": {},
   "outputs": [],
   "source": [
    "df['tags'] = df['tags'].apply(stem)"
   ]
  },
  {
   "cell_type": "code",
   "execution_count": 180,
   "id": "98ec7992-3e1b-4c71-81d5-1b152f7ceea8",
   "metadata": {},
   "outputs": [],
   "source": [
    "from sklearn.metrics.pairwise import cosine_similarity"
   ]
  },
  {
   "cell_type": "code",
   "execution_count": 186,
   "id": "6f57e5a4-b1fe-4d8c-a270-9078c0627d64",
   "metadata": {},
   "outputs": [],
   "source": [
    "similarity = cosine_similarity(vectors)"
   ]
  },
  {
   "cell_type": "code",
   "execution_count": null,
   "id": "bc474a2a-bb86-4b99-a617-2aad7cf7a416",
   "metadata": {},
   "outputs": [],
   "source": [
    "#sorted(list(enumerate(similarity[0])),reverse=True,key=lambda x:x[1])[1:6] "
   ]
  },
  {
   "cell_type": "code",
   "execution_count": 196,
   "id": "429261cd-4ed9-40f8-b415-0e40dc965eab",
   "metadata": {},
   "outputs": [],
   "source": [
    "def recommend (movie):\n",
    "    movie_index = df[df['title'] == movie].index[0]     # getting movie index number\n",
    "    distances = similarity[movie_index]                 # finding distances of all movies from our movie\n",
    "    movie_list = sorted(list(enumerate(distances)),reverse=True,key=lambda x:x[1])[1:6]        # sorting based on index number \n",
    "    for i in movie_list:\n",
    "        print(df.iloc[i[0]].title)"
   ]
  },
  {
   "cell_type": "code",
   "execution_count": 198,
   "id": "749d2ac5-4175-4119-abae-0a4bc2237396",
   "metadata": {},
   "outputs": [
    {
     "name": "stdout",
     "output_type": "stream",
     "text": [
      "The Hitchhiker's Guide to the Galaxy\n",
      "Escape from Planet Earth\n",
      "Planet 51\n",
      "Home\n",
      "Aliens in the Attic\n"
     ]
    }
   ],
   "source": [
    "recommend('Meet Dave') "
   ]
  },
  {
   "cell_type": "code",
   "execution_count": null,
   "id": "db439435-1c85-4c7c-bac1-65c6aa4b477a",
   "metadata": {},
   "outputs": [],
   "source": []
  }
 ],
 "metadata": {
  "kernelspec": {
   "display_name": "Python 3 (ipykernel)",
   "language": "python",
   "name": "python3"
  },
  "language_info": {
   "codemirror_mode": {
    "name": "ipython",
    "version": 3
   },
   "file_extension": ".py",
   "mimetype": "text/x-python",
   "name": "python",
   "nbconvert_exporter": "python",
   "pygments_lexer": "ipython3",
   "version": "3.12.7"
  }
 },
 "nbformat": 4,
 "nbformat_minor": 5
}
